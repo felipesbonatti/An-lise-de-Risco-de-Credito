{
 "cells": [
  {
   "cell_type": "markdown",
   "metadata": {},
   "source": [
    "# Análise Exploratória de Dados - Risco de Crédito\n",
    "\n",
    "Este notebook realiza uma análise exploratória dos dados de risco de crédito para entender melhor as distribuições, correlações e padrões nos dados antes de iniciar o processo de modelagem."
   ]
  },
  {
   "cell_type": "markdown",
   "metadata": {},
   "source": [
    "## Importação das Bibliotecas"
   ]
  },
  {
   "cell_type": "code",
   "execution_count": null,
   "metadata": {},
   "outputs": [],
   "source": [
    "# Bibliotecas básicas\n",
    "import pandas as pd\n",
    "import numpy as np\n",
    "import matplotlib.pyplot as plt\n",
    "import seaborn as sns\n",
    "\n",
    "# Configurações de visualização\n",
    "plt.style.use('seaborn-v0_8-whitegrid')\n",
    "plt.rcParams['figure.figsize'] = (12, 8)\n",
    "plt.rcParams['font.size'] = 12\n",
    "sns.set_palette('viridis')\n",
    "\n",
    "# Ignorar avisos\n",
    "import warnings\n",
    "warnings.filterwarnings('ignore')\n",
    "\n",
    "# Carregar funções próprias do projeto\n",
    "import sys\n",
    "sys.path.append('..')\n",
    "from src.data_processing import load_data_from_csv, handle_missing_values"
   ]
  },
  {
   "cell_type": "markdown",
   "metadata": {},
   "source": [
    "## Carregamento dos Dados"
   ]
  },
  {
   "cell_type": "code",
   "execution_count": null,
   "metadata": {},
   "outputs": [],
   "source": [
    "# Carregar dados brutos\n",
    "data_path = '../data/raw/credit_data.csv'\n",
    "df = load_data_from_csv(data_path)\n",
    "\n",
    "# Exibir as primeiras linhas para verificação\n",
    "df.head()"
   ]
  },
  {
   "cell_type": "markdown",
   "metadata": {},
   "source": [
    "## Análise Básica dos Dados"
   ]
  },
  {
   "cell_type": "code",
   "execution_count": null,
   "metadata": {},
   "outputs": [],
   "source": [
    "# Dimensões do dataset\n",
    "print(f\"Shape do Dataset: {df.shape}\")\n",
    "\n",
    "# Informações das colunas\n",
    "print(\"\\nInformações das Colunas:\")\n",
    "df.info()"
   ]
  },
  {
   "cell_type": "code",
   "execution_count": null,
   "metadata": {},
   "outputs": [],
   "source": [
    "# Estatísticas descritivas\n",
    "df.describe().T"
   ]
  },
  {
   "cell_type": "markdown",
   "metadata": {},
   "source": [
    "## Análise de Valores Ausentes"
   ]
  },
  {
   "cell_type": "code",
   "execution_count": null,
   "metadata": {},
   "outputs": [],
   "source": [
    "# Verificar valores ausentes\n",
    "missing_values = df.isnull().sum()\n",
    "missing_percentage = (missing_values / len(df)) * 100\n",
    "\n",
    "missing_df = pd.DataFrame({\n",
    "    'Valores Ausentes': missing_values,\n",
    "    'Porcentagem (%)': missing_percentage\n",
    "}).sort_values('Valores Ausentes', ascending=False)\n",
    "\n",
    "# Exibir apenas colunas com valores ausentes\n",
    "missing_df[missing_df['Valores Ausentes'] > 0]"
   ]
  },
  {
   "cell_type": "code",
   "execution_count": null,
   "metadata": {},
   "outputs": [],
   "source": [
    "# Visualizar valores ausentes\n",
    "plt.figure(figsize=(12, 6))\n",
    "sns.heatmap(df.isnull(), cmap='viridis', cbar=False, yticklabels=False)\n",
    "plt.title('Mapa de Valores Ausentes')\n",
    "plt.tight_layout()\n",
    "plt.show()"
   ]
  },
  {
   "cell_type": "markdown",
   "metadata": {},
   "source": [
    "## Distribuição da Variável Alvo"
   ]
  },
  {
   "cell_type": "code",
   "execution_count": null,
   "metadata": {},
   "outputs": [],
   "source": [
    "# Definir variável alvo (ajuste conforme seu dataset)\n",
    "target_col = 'risco_credito'\n",
    "\n",
    "# Contagem da variável alvo\n",
    "plt.figure(figsize=(10, 6))\n",
    "target_counts = df[target_col].value_counts()\n",
    "ax = sns.barplot(x=target_counts.index, y=target_counts.values)\n",
    "\n",
    "# Adicionar rótulos com porcentagens\n",
    "total = len(df)\n",
    "for p in ax.patches:\n",
    "    percentage = f'{100 * p.get_height() / total:.1f}%'\n",
    "    ax.annotate(percentage, (p.get_x() + p.get_width() / 2., p.get_height()),\n",
    "                ha='center', va='center', xytext=(0, 10), textcoords='offset points')\n",
    "\n",
    "plt.title('Distribuição da Variável Alvo: Risco de Crédito')\n",
    "plt.xlabel('Categoria de Risco')\n",
    "plt.ylabel('Contagem')\n",
    "plt.xticks(rotation=0)\n",
    "plt.show()"
   ]
  },
  {
   "cell_type": "markdown",
   "metadata": {},
   "source": [
    "## Análise de Variáveis Numéricas"
   ]
  },
  {
   "cell_type": "code",
   "execution_count": null,
   "metadata": {},
   "outputs": [],
   "source": [
    "# Identificar colunas numéricas\n",
    "numeric_cols = df.select_dtypes(include=['int64', 'float64']).columns.tolist()\n",
    "numeric_cols = [col for col in numeric_cols if col != target_col]  # Excluir target\n",
    "\n",
    "# Selecionar até 6 colunas numéricas para visualização\n",
    "display_cols = numeric_cols[:6] if len(numeric_cols) > 6 else numeric_cols\n",
    "\n",
    "# Histogramas das principais variáveis numéricas\n",
    "fig, axes = plt.subplots(2, 3, figsize=(18, 10))\n",
    "axes = axes.flatten()\n",
    "\n",
    "for i, col in enumerate(display_cols):\n",
    "    sns.histplot(data=df, x=col, kde=True, ax=axes[i])\n",
    "    axes[i].set_title(f'Distribuição de {col}')\n",
    "    axes[i].set_ylabel('Frequência')\n",
    "    \n",
    "plt.tight_layout()\n",
    "plt.show()"
   ]
  },
  {
   "cell_type": "code",
   "execution_count": null,
   "metadata": {},
   "outputs": [],
   "source": [
    "# Box plots para detectar outliers\n",
    "fig, axes = plt.subplots(2, 3, figsize=(18, 10))\n",
    "axes = axes.flatten()\n",
    "\n",
    "for i, col in enumerate(display_cols):\n",
    "    sns.boxplot(x=df[col], ax=axes[i])\n",
    "    axes[i].set_title(f'Box Plot de {col}')\n",
    "    \n",
    "plt.tight_layout()\n",
    "plt.show()"
   ]
  },
  {
   "cell_type": "markdown",
   "metadata": {},
   "source": [
    "## Análise de Variáveis Categóricas"
   ]
  },
  {
   "cell_type": "code",
   "execution_count": null,
   "metadata": {},
   "outputs": [],
   "source": [
    "# Identificar colunas categóricas\n",
    "categorical_cols = df.select_dtypes(include=['object', 'category']).columns.tolist()\n",
    "categorical_cols = [col for col in categorical_cols if col != target_col]  # Excluir target se for categórico\n",
    "\n",
    "# Contagem de valores para cada categoria\n",
    "for col in categorical_cols[:4]:  # Limitando a 4 colunas para melhor visualização\n",
    "    plt.figure(figsize=(12, 6))\n",
    "    value_counts = df[col].value_counts().sort_values(ascending=False)\n",
    "    \n",
    "    # Limitar a 10 categorias para melhor visualização\n",
    "    if len(value_counts) > 10:\n",
    "        value_counts = value_counts[:10]\n",
    "        title_suffix = \" (Top 10)\"\n",
    "    else:\n",
    "        title_suffix = \"\"\n",
    "    \n",
    "    sns.barplot(x=value_counts.index, y=value_counts.values)\n",
    "    plt.title(f'Distribuição da Variável: {col}{title_suffix}')\n",
    "    plt.xlabel(col)\n",
    "    plt.ylabel('Contagem')\n",
    "    plt.xticks(rotation=45, ha='right')\n",
    "    plt.tight_layout()\n",
    "    plt.show()"
   ]
  },
  {
   "cell_type": "markdown",
   "metadata": {},
   "source": [
    "## Análise Bivariada com a Variável Alvo"
   ]
  },
  {
   "cell_type": "code",
   "execution_count": null,
   "metadata": {},
   "outputs": [],
   "source": [
    "# Relação entre variáveis numéricas e a variável alvo\n",
    "for col in display_cols:\n",
    "    plt.figure(figsize=(12, 6))\n",
    "    sns.boxplot(x=target_col, y=col, data=df)\n",
    "    plt.title(f'Relação entre {col} e {target_col}')\n",
    "    plt.tight_layout()\n",
    "    plt.show()"
   ]
  },
  {
   "cell_type": "code",
   "execution_count": null,
   "metadata": {},
   "outputs": [],
   "source": [
    "# Relação entre variáveis categóricas e a variável alvo\n",
    "for col in categorical_cols[:3]:  # Limitando a 3 colunas\n",
    "    plt.figure(figsize=(14, 7))\n",
    "    \n",
    "    # Limitar a 6 categorias mais frequentes\n",
    "    top_categories = df[col].value_counts().nlargest(6).index\n",
    "    plot_df = df[df[col].isin(top_categories)]\n",
    "    \n",
    "    cross_tab = pd.crosstab(plot_df[col], plot_df[target_col], normalize='index')\n",
    "    cross_tab.plot(kind='bar', stacked=True)\n",
    "    \n",
    "    plt.title(f'Relação entre {col} e {target_col}')\n",
    "    plt.xlabel(col)\n",
    "    plt.ylabel('Proporção')\n",
    "    plt.legend(title=target_col)\n",
    "    plt.xticks(rotation=45, ha='right')\n",
    "    plt.tight_layout()\n",
    "    plt.show()"
   ]
  },
  {
   "cell_type": "markdown",
   "metadata": {},
   "source": [
    "## Correlação entre Variáveis Numéricas"
   ]
  },
  {
   "cell_type": "code",
   "execution_count": null,
   "metadata": {},
   "outputs": [],
   "source": [
    "# Matriz de correlação\n",
    "corr_matrix = df[numeric_cols].corr()\n",
    "\n",
    "# Visualização da matriz de correlação\n",
    "plt.figure(figsize=(14, 10))\n",
    "mask = np.triu(np.ones_like(corr_matrix, dtype=bool))\n",
    "sns.heatmap(corr_matrix, mask=mask, annot=True, fmt='.2f', cmap='coolwarm', vmin=-1, vmax=1, center=0)\n",
    "plt.title('Matriz de Correlação das Variáveis Numéricas')\n",
    "plt.tight_layout()\n",
    "plt.show()"
   ]
  },
  {
   "cell_type": "markdown",
   "metadata": {},
   "source": [
    "## Conclusões Preliminares\n",
    "\n",
    "Após a análise exploratória, podemos tirar as seguintes conclusões preliminares:\n",
    "\n",
    "1. **Distribuição dos dados**: [Adicione observações sobre as distribuições das principais variáveis]\n",
    "\n",
    "2. **Valores ausentes**: [Adicione observações sobre padrões de valores ausentes]\n",
    "\n",
    "3. **Variável alvo**: [Adicione observações sobre o balanceamento/desbalanceamento da variável alvo]\n",
    "\n",
    "4. **Relações importantes**: [Adicione observações sobre relações significativas descobertas]\n",
    "\n",
    "5. **Possíveis features importantes**: [Liste as variáveis que parecem ter maior poder preditivo]\n",
    "\n",
    "6. **Próximos passos**: [Liste as etapas seguintes no processo de modelagem]\n",
    "   - Tratamento de valores ausentes\n",
    "   - Tratamento de outliers\n",
    "   - Engenharia de features\n",
    "   - Seleção de features\n",
    "   - Modelagem e validação"
   ]
  }
 ],
 "metadata": {
  "kernelspec": {
   "display_name": "Python 3",
   "language": "python",
   "name": "python3"
  },
  "language_info": {
   "codemirror_mode": {
    "name": "ipython",
    "version": 3
   },
   "file_extension": ".py",
   "mimetype": "text/x-python",
   "name": "python",
   "nbconvert_exporter": "python",
   "pygments_lexer": "ipython3",
   "version": "3.8.10"
  }
 },
 "nbformat": 4,
 "nbformat_minor": 4
}
